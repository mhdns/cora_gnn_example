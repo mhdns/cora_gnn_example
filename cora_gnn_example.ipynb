{
 "cells": [
  {
   "cell_type": "code",
   "execution_count": 1,
   "metadata": {
    "collapsed": false,
    "pycharm": {
     "name": "#%%\n"
    }
   },
   "outputs": [],
   "source": [
    "import pyspark\n",
    "import os"
   ]
  },
  {
   "cell_type": "code",
   "execution_count": 2,
   "metadata": {
    "collapsed": false,
    "pycharm": {
     "name": "#%%\n"
    }
   },
   "outputs": [],
   "source": [
    "SUBMIT_ARGS = \"--packages graphframes:graphframes:0.8.1-spark3.0-s_2.12 pyspark-shell\"\n",
    "os.environ[\"PYSPARK_SUBMIT_ARGS\"] = SUBMIT_ARGS\n",
    "\n",
    "spark = pyspark.sql.SparkSession.builder.appName(\"Cora\").getOrCreate()"
   ]
  },
  {
   "cell_type": "code",
   "execution_count": 3,
   "metadata": {
    "collapsed": false,
    "pycharm": {
     "name": "#%%\n"
    }
   },
   "outputs": [],
   "source": [
    "import numpy as np\n",
    "import pandas as pd\n",
    "import networkx as nx\n",
    "import tensorflow as tf"
   ]
  },
  {
   "cell_type": "code",
   "execution_count": 4,
   "metadata": {
    "collapsed": false,
    "pycharm": {
     "name": "#%%\n"
    }
   },
   "outputs": [],
   "source": [
    "links_pd = pd.read_csv(\"./data/cora/cora.cites\", sep=\"\\t\", header=None)\n",
    "nodes_pd = pd.read_csv(\"./data/cora/cora.content\", sep=\"\\t\", header=None)"
   ]
  },
  {
   "cell_type": "code",
   "execution_count": 5,
   "metadata": {
    "collapsed": false,
    "pycharm": {
     "name": "#%%\n"
    }
   },
   "outputs": [
    {
     "name": "stdout",
     "output_type": "stream",
     "text": [
      "(2708, 1435) (5429, 2)\n"
     ]
    }
   ],
   "source": [
    "print(nodes_pd.shape, links_pd.shape)"
   ]
  },
  {
   "cell_type": "code",
   "execution_count": 6,
   "metadata": {
    "collapsed": false,
    "pycharm": {
     "name": "#%%\n"
    }
   },
   "outputs": [
    {
     "data": {
      "text/html": [
       "<div>\n",
       "<style scoped>\n",
       "    .dataframe tbody tr th:only-of-type {\n",
       "        vertical-align: middle;\n",
       "    }\n",
       "\n",
       "    .dataframe tbody tr th {\n",
       "        vertical-align: top;\n",
       "    }\n",
       "\n",
       "    .dataframe thead th {\n",
       "        text-align: right;\n",
       "    }\n",
       "</style>\n",
       "<table border=\"1\" class=\"dataframe\">\n",
       "  <thead>\n",
       "    <tr style=\"text-align: right;\">\n",
       "      <th></th>\n",
       "      <th>0</th>\n",
       "      <th>1</th>\n",
       "      <th>2</th>\n",
       "      <th>3</th>\n",
       "      <th>4</th>\n",
       "      <th>5</th>\n",
       "      <th>6</th>\n",
       "      <th>7</th>\n",
       "      <th>8</th>\n",
       "      <th>9</th>\n",
       "      <th>...</th>\n",
       "      <th>1425</th>\n",
       "      <th>1426</th>\n",
       "      <th>1427</th>\n",
       "      <th>1428</th>\n",
       "      <th>1429</th>\n",
       "      <th>1430</th>\n",
       "      <th>1431</th>\n",
       "      <th>1432</th>\n",
       "      <th>1433</th>\n",
       "      <th>1434</th>\n",
       "    </tr>\n",
       "  </thead>\n",
       "  <tbody>\n",
       "    <tr>\n",
       "      <th>0</th>\n",
       "      <td>31336</td>\n",
       "      <td>0</td>\n",
       "      <td>0</td>\n",
       "      <td>0</td>\n",
       "      <td>0</td>\n",
       "      <td>0</td>\n",
       "      <td>0</td>\n",
       "      <td>0</td>\n",
       "      <td>0</td>\n",
       "      <td>0</td>\n",
       "      <td>...</td>\n",
       "      <td>0</td>\n",
       "      <td>0</td>\n",
       "      <td>1</td>\n",
       "      <td>0</td>\n",
       "      <td>0</td>\n",
       "      <td>0</td>\n",
       "      <td>0</td>\n",
       "      <td>0</td>\n",
       "      <td>0</td>\n",
       "      <td>Neural_Networks</td>\n",
       "    </tr>\n",
       "    <tr>\n",
       "      <th>1</th>\n",
       "      <td>1061127</td>\n",
       "      <td>0</td>\n",
       "      <td>0</td>\n",
       "      <td>0</td>\n",
       "      <td>0</td>\n",
       "      <td>0</td>\n",
       "      <td>0</td>\n",
       "      <td>0</td>\n",
       "      <td>0</td>\n",
       "      <td>0</td>\n",
       "      <td>...</td>\n",
       "      <td>0</td>\n",
       "      <td>1</td>\n",
       "      <td>0</td>\n",
       "      <td>0</td>\n",
       "      <td>0</td>\n",
       "      <td>0</td>\n",
       "      <td>0</td>\n",
       "      <td>0</td>\n",
       "      <td>0</td>\n",
       "      <td>Rule_Learning</td>\n",
       "    </tr>\n",
       "    <tr>\n",
       "      <th>2</th>\n",
       "      <td>1106406</td>\n",
       "      <td>0</td>\n",
       "      <td>0</td>\n",
       "      <td>0</td>\n",
       "      <td>0</td>\n",
       "      <td>0</td>\n",
       "      <td>0</td>\n",
       "      <td>0</td>\n",
       "      <td>0</td>\n",
       "      <td>0</td>\n",
       "      <td>...</td>\n",
       "      <td>0</td>\n",
       "      <td>0</td>\n",
       "      <td>0</td>\n",
       "      <td>0</td>\n",
       "      <td>0</td>\n",
       "      <td>0</td>\n",
       "      <td>0</td>\n",
       "      <td>0</td>\n",
       "      <td>0</td>\n",
       "      <td>Reinforcement_Learning</td>\n",
       "    </tr>\n",
       "    <tr>\n",
       "      <th>3</th>\n",
       "      <td>13195</td>\n",
       "      <td>0</td>\n",
       "      <td>0</td>\n",
       "      <td>0</td>\n",
       "      <td>0</td>\n",
       "      <td>0</td>\n",
       "      <td>0</td>\n",
       "      <td>0</td>\n",
       "      <td>0</td>\n",
       "      <td>0</td>\n",
       "      <td>...</td>\n",
       "      <td>0</td>\n",
       "      <td>0</td>\n",
       "      <td>0</td>\n",
       "      <td>0</td>\n",
       "      <td>0</td>\n",
       "      <td>0</td>\n",
       "      <td>0</td>\n",
       "      <td>0</td>\n",
       "      <td>0</td>\n",
       "      <td>Reinforcement_Learning</td>\n",
       "    </tr>\n",
       "    <tr>\n",
       "      <th>4</th>\n",
       "      <td>37879</td>\n",
       "      <td>0</td>\n",
       "      <td>0</td>\n",
       "      <td>0</td>\n",
       "      <td>0</td>\n",
       "      <td>0</td>\n",
       "      <td>0</td>\n",
       "      <td>0</td>\n",
       "      <td>0</td>\n",
       "      <td>0</td>\n",
       "      <td>...</td>\n",
       "      <td>0</td>\n",
       "      <td>0</td>\n",
       "      <td>0</td>\n",
       "      <td>0</td>\n",
       "      <td>0</td>\n",
       "      <td>0</td>\n",
       "      <td>0</td>\n",
       "      <td>0</td>\n",
       "      <td>0</td>\n",
       "      <td>Probabilistic_Methods</td>\n",
       "    </tr>\n",
       "  </tbody>\n",
       "</table>\n",
       "<p>5 rows × 1435 columns</p>\n",
       "</div>"
      ],
      "text/plain": [
       "      0     1     2     3     4     5     6     7     8     9     ...  1425  \\\n",
       "0    31336     0     0     0     0     0     0     0     0     0  ...     0   \n",
       "1  1061127     0     0     0     0     0     0     0     0     0  ...     0   \n",
       "2  1106406     0     0     0     0     0     0     0     0     0  ...     0   \n",
       "3    13195     0     0     0     0     0     0     0     0     0  ...     0   \n",
       "4    37879     0     0     0     0     0     0     0     0     0  ...     0   \n",
       "\n",
       "   1426  1427  1428  1429  1430  1431  1432  1433                    1434  \n",
       "0     0     1     0     0     0     0     0     0         Neural_Networks  \n",
       "1     1     0     0     0     0     0     0     0           Rule_Learning  \n",
       "2     0     0     0     0     0     0     0     0  Reinforcement_Learning  \n",
       "3     0     0     0     0     0     0     0     0  Reinforcement_Learning  \n",
       "4     0     0     0     0     0     0     0     0   Probabilistic_Methods  \n",
       "\n",
       "[5 rows x 1435 columns]"
      ]
     },
     "execution_count": 6,
     "metadata": {},
     "output_type": "execute_result"
    }
   ],
   "source": [
    "nodes_pd.head()"
   ]
  },
  {
   "cell_type": "code",
   "execution_count": 7,
   "metadata": {
    "collapsed": false,
    "pycharm": {
     "name": "#%%\n"
    }
   },
   "outputs": [],
   "source": [
    "link_list = links_pd[[1, 0]].values.tolist()"
   ]
  },
  {
   "cell_type": "code",
   "execution_count": 8,
   "metadata": {
    "collapsed": false,
    "pycharm": {
     "name": "#%%\n"
    }
   },
   "outputs": [],
   "source": [
    "g = nx.DiGraph(link_list, name=\"cora\")"
   ]
  },
  {
   "cell_type": "code",
   "execution_count": 9,
   "metadata": {
    "collapsed": false,
    "pycharm": {
     "name": "#%%\n"
    }
   },
   "outputs": [
    {
     "name": "stderr",
     "output_type": "stream",
     "text": [
      "/tmp/ipykernel_10799/2906892871.py:1: FutureWarning: adjacency_matrix will return a scipy.sparse array instead of a matrix in Networkx 3.0.\n",
      "  adj = nx.adjacency_matrix(g)\n"
     ]
    }
   ],
   "source": [
    "adj = nx.adjacency_matrix(g)"
   ]
  },
  {
   "cell_type": "code",
   "execution_count": 10,
   "metadata": {
    "collapsed": false,
    "pycharm": {
     "name": "#%%\n"
    }
   },
   "outputs": [
    {
     "data": {
      "text/html": [
       "<div>\n",
       "<style scoped>\n",
       "    .dataframe tbody tr th:only-of-type {\n",
       "        vertical-align: middle;\n",
       "    }\n",
       "\n",
       "    .dataframe tbody tr th {\n",
       "        vertical-align: top;\n",
       "    }\n",
       "\n",
       "    .dataframe thead th {\n",
       "        text-align: right;\n",
       "    }\n",
       "</style>\n",
       "<table border=\"1\" class=\"dataframe\">\n",
       "  <thead>\n",
       "    <tr style=\"text-align: right;\">\n",
       "      <th></th>\n",
       "      <th>1033</th>\n",
       "      <th>35</th>\n",
       "      <th>103482</th>\n",
       "      <th>103515</th>\n",
       "      <th>1050679</th>\n",
       "      <th>1103960</th>\n",
       "      <th>1103985</th>\n",
       "      <th>1109199</th>\n",
       "      <th>1112911</th>\n",
       "      <th>1113438</th>\n",
       "      <th>...</th>\n",
       "      <th>815073</th>\n",
       "      <th>820661</th>\n",
       "      <th>817774</th>\n",
       "      <th>1139009</th>\n",
       "      <th>824245</th>\n",
       "      <th>1140231</th>\n",
       "      <th>853114</th>\n",
       "      <th>853155</th>\n",
       "      <th>853115</th>\n",
       "      <th>853118</th>\n",
       "    </tr>\n",
       "  </thead>\n",
       "  <tbody>\n",
       "    <tr>\n",
       "      <th>1033</th>\n",
       "      <td>0.0</td>\n",
       "      <td>1.0</td>\n",
       "      <td>0.0</td>\n",
       "      <td>0.0</td>\n",
       "      <td>0.0</td>\n",
       "      <td>0.0</td>\n",
       "      <td>0.0</td>\n",
       "      <td>0.0</td>\n",
       "      <td>0.0</td>\n",
       "      <td>0.0</td>\n",
       "      <td>...</td>\n",
       "      <td>0.0</td>\n",
       "      <td>0.0</td>\n",
       "      <td>0.0</td>\n",
       "      <td>0.0</td>\n",
       "      <td>0.0</td>\n",
       "      <td>0.0</td>\n",
       "      <td>0.0</td>\n",
       "      <td>0.0</td>\n",
       "      <td>0.0</td>\n",
       "      <td>0.0</td>\n",
       "    </tr>\n",
       "    <tr>\n",
       "      <th>35</th>\n",
       "      <td>0.0</td>\n",
       "      <td>0.0</td>\n",
       "      <td>0.0</td>\n",
       "      <td>0.0</td>\n",
       "      <td>0.0</td>\n",
       "      <td>0.0</td>\n",
       "      <td>0.0</td>\n",
       "      <td>0.0</td>\n",
       "      <td>0.0</td>\n",
       "      <td>0.0</td>\n",
       "      <td>...</td>\n",
       "      <td>0.0</td>\n",
       "      <td>0.0</td>\n",
       "      <td>0.0</td>\n",
       "      <td>0.0</td>\n",
       "      <td>0.0</td>\n",
       "      <td>0.0</td>\n",
       "      <td>0.0</td>\n",
       "      <td>0.0</td>\n",
       "      <td>0.0</td>\n",
       "      <td>0.0</td>\n",
       "    </tr>\n",
       "    <tr>\n",
       "      <th>103482</th>\n",
       "      <td>0.0</td>\n",
       "      <td>1.0</td>\n",
       "      <td>0.0</td>\n",
       "      <td>0.0</td>\n",
       "      <td>0.0</td>\n",
       "      <td>0.0</td>\n",
       "      <td>0.0</td>\n",
       "      <td>0.0</td>\n",
       "      <td>0.0</td>\n",
       "      <td>0.0</td>\n",
       "      <td>...</td>\n",
       "      <td>0.0</td>\n",
       "      <td>0.0</td>\n",
       "      <td>0.0</td>\n",
       "      <td>0.0</td>\n",
       "      <td>0.0</td>\n",
       "      <td>0.0</td>\n",
       "      <td>0.0</td>\n",
       "      <td>0.0</td>\n",
       "      <td>0.0</td>\n",
       "      <td>0.0</td>\n",
       "    </tr>\n",
       "    <tr>\n",
       "      <th>103515</th>\n",
       "      <td>0.0</td>\n",
       "      <td>1.0</td>\n",
       "      <td>0.0</td>\n",
       "      <td>0.0</td>\n",
       "      <td>0.0</td>\n",
       "      <td>0.0</td>\n",
       "      <td>0.0</td>\n",
       "      <td>0.0</td>\n",
       "      <td>0.0</td>\n",
       "      <td>0.0</td>\n",
       "      <td>...</td>\n",
       "      <td>0.0</td>\n",
       "      <td>0.0</td>\n",
       "      <td>0.0</td>\n",
       "      <td>0.0</td>\n",
       "      <td>0.0</td>\n",
       "      <td>0.0</td>\n",
       "      <td>0.0</td>\n",
       "      <td>0.0</td>\n",
       "      <td>0.0</td>\n",
       "      <td>0.0</td>\n",
       "    </tr>\n",
       "    <tr>\n",
       "      <th>1050679</th>\n",
       "      <td>0.0</td>\n",
       "      <td>1.0</td>\n",
       "      <td>0.0</td>\n",
       "      <td>0.0</td>\n",
       "      <td>0.0</td>\n",
       "      <td>0.0</td>\n",
       "      <td>0.0</td>\n",
       "      <td>0.0</td>\n",
       "      <td>0.0</td>\n",
       "      <td>0.0</td>\n",
       "      <td>...</td>\n",
       "      <td>0.0</td>\n",
       "      <td>0.0</td>\n",
       "      <td>0.0</td>\n",
       "      <td>0.0</td>\n",
       "      <td>0.0</td>\n",
       "      <td>0.0</td>\n",
       "      <td>0.0</td>\n",
       "      <td>0.0</td>\n",
       "      <td>0.0</td>\n",
       "      <td>0.0</td>\n",
       "    </tr>\n",
       "    <tr>\n",
       "      <th>...</th>\n",
       "      <td>...</td>\n",
       "      <td>...</td>\n",
       "      <td>...</td>\n",
       "      <td>...</td>\n",
       "      <td>...</td>\n",
       "      <td>...</td>\n",
       "      <td>...</td>\n",
       "      <td>...</td>\n",
       "      <td>...</td>\n",
       "      <td>...</td>\n",
       "      <td>...</td>\n",
       "      <td>...</td>\n",
       "      <td>...</td>\n",
       "      <td>...</td>\n",
       "      <td>...</td>\n",
       "      <td>...</td>\n",
       "      <td>...</td>\n",
       "      <td>...</td>\n",
       "      <td>...</td>\n",
       "      <td>...</td>\n",
       "      <td>...</td>\n",
       "    </tr>\n",
       "    <tr>\n",
       "      <th>1140231</th>\n",
       "      <td>0.0</td>\n",
       "      <td>0.0</td>\n",
       "      <td>0.0</td>\n",
       "      <td>0.0</td>\n",
       "      <td>0.0</td>\n",
       "      <td>0.0</td>\n",
       "      <td>0.0</td>\n",
       "      <td>0.0</td>\n",
       "      <td>0.0</td>\n",
       "      <td>0.0</td>\n",
       "      <td>...</td>\n",
       "      <td>0.0</td>\n",
       "      <td>0.0</td>\n",
       "      <td>0.0</td>\n",
       "      <td>0.0</td>\n",
       "      <td>0.0</td>\n",
       "      <td>0.0</td>\n",
       "      <td>0.0</td>\n",
       "      <td>0.0</td>\n",
       "      <td>0.0</td>\n",
       "      <td>0.0</td>\n",
       "    </tr>\n",
       "    <tr>\n",
       "      <th>853114</th>\n",
       "      <td>0.0</td>\n",
       "      <td>0.0</td>\n",
       "      <td>0.0</td>\n",
       "      <td>0.0</td>\n",
       "      <td>0.0</td>\n",
       "      <td>0.0</td>\n",
       "      <td>0.0</td>\n",
       "      <td>0.0</td>\n",
       "      <td>0.0</td>\n",
       "      <td>0.0</td>\n",
       "      <td>...</td>\n",
       "      <td>0.0</td>\n",
       "      <td>0.0</td>\n",
       "      <td>0.0</td>\n",
       "      <td>0.0</td>\n",
       "      <td>0.0</td>\n",
       "      <td>0.0</td>\n",
       "      <td>0.0</td>\n",
       "      <td>0.0</td>\n",
       "      <td>1.0</td>\n",
       "      <td>0.0</td>\n",
       "    </tr>\n",
       "    <tr>\n",
       "      <th>853155</th>\n",
       "      <td>0.0</td>\n",
       "      <td>0.0</td>\n",
       "      <td>0.0</td>\n",
       "      <td>0.0</td>\n",
       "      <td>0.0</td>\n",
       "      <td>0.0</td>\n",
       "      <td>0.0</td>\n",
       "      <td>0.0</td>\n",
       "      <td>0.0</td>\n",
       "      <td>0.0</td>\n",
       "      <td>...</td>\n",
       "      <td>0.0</td>\n",
       "      <td>0.0</td>\n",
       "      <td>0.0</td>\n",
       "      <td>0.0</td>\n",
       "      <td>0.0</td>\n",
       "      <td>0.0</td>\n",
       "      <td>1.0</td>\n",
       "      <td>0.0</td>\n",
       "      <td>1.0</td>\n",
       "      <td>0.0</td>\n",
       "    </tr>\n",
       "    <tr>\n",
       "      <th>853115</th>\n",
       "      <td>0.0</td>\n",
       "      <td>0.0</td>\n",
       "      <td>0.0</td>\n",
       "      <td>0.0</td>\n",
       "      <td>0.0</td>\n",
       "      <td>0.0</td>\n",
       "      <td>0.0</td>\n",
       "      <td>0.0</td>\n",
       "      <td>0.0</td>\n",
       "      <td>0.0</td>\n",
       "      <td>...</td>\n",
       "      <td>0.0</td>\n",
       "      <td>0.0</td>\n",
       "      <td>0.0</td>\n",
       "      <td>0.0</td>\n",
       "      <td>0.0</td>\n",
       "      <td>0.0</td>\n",
       "      <td>0.0</td>\n",
       "      <td>0.0</td>\n",
       "      <td>0.0</td>\n",
       "      <td>0.0</td>\n",
       "    </tr>\n",
       "    <tr>\n",
       "      <th>853118</th>\n",
       "      <td>0.0</td>\n",
       "      <td>0.0</td>\n",
       "      <td>0.0</td>\n",
       "      <td>0.0</td>\n",
       "      <td>0.0</td>\n",
       "      <td>0.0</td>\n",
       "      <td>0.0</td>\n",
       "      <td>0.0</td>\n",
       "      <td>0.0</td>\n",
       "      <td>0.0</td>\n",
       "      <td>...</td>\n",
       "      <td>0.0</td>\n",
       "      <td>0.0</td>\n",
       "      <td>0.0</td>\n",
       "      <td>0.0</td>\n",
       "      <td>0.0</td>\n",
       "      <td>0.0</td>\n",
       "      <td>0.0</td>\n",
       "      <td>1.0</td>\n",
       "      <td>0.0</td>\n",
       "      <td>0.0</td>\n",
       "    </tr>\n",
       "  </tbody>\n",
       "</table>\n",
       "<p>2708 rows × 2708 columns</p>\n",
       "</div>"
      ],
      "text/plain": [
       "         1033     35       103482   103515   1050679  1103960  1103985  \\\n",
       "1033         0.0      1.0      0.0      0.0      0.0      0.0      0.0   \n",
       "35           0.0      0.0      0.0      0.0      0.0      0.0      0.0   \n",
       "103482       0.0      1.0      0.0      0.0      0.0      0.0      0.0   \n",
       "103515       0.0      1.0      0.0      0.0      0.0      0.0      0.0   \n",
       "1050679      0.0      1.0      0.0      0.0      0.0      0.0      0.0   \n",
       "...          ...      ...      ...      ...      ...      ...      ...   \n",
       "1140231      0.0      0.0      0.0      0.0      0.0      0.0      0.0   \n",
       "853114       0.0      0.0      0.0      0.0      0.0      0.0      0.0   \n",
       "853155       0.0      0.0      0.0      0.0      0.0      0.0      0.0   \n",
       "853115       0.0      0.0      0.0      0.0      0.0      0.0      0.0   \n",
       "853118       0.0      0.0      0.0      0.0      0.0      0.0      0.0   \n",
       "\n",
       "         1109199  1112911  1113438  ...  815073   820661   817774   1139009  \\\n",
       "1033         0.0      0.0      0.0  ...      0.0      0.0      0.0      0.0   \n",
       "35           0.0      0.0      0.0  ...      0.0      0.0      0.0      0.0   \n",
       "103482       0.0      0.0      0.0  ...      0.0      0.0      0.0      0.0   \n",
       "103515       0.0      0.0      0.0  ...      0.0      0.0      0.0      0.0   \n",
       "1050679      0.0      0.0      0.0  ...      0.0      0.0      0.0      0.0   \n",
       "...          ...      ...      ...  ...      ...      ...      ...      ...   \n",
       "1140231      0.0      0.0      0.0  ...      0.0      0.0      0.0      0.0   \n",
       "853114       0.0      0.0      0.0  ...      0.0      0.0      0.0      0.0   \n",
       "853155       0.0      0.0      0.0  ...      0.0      0.0      0.0      0.0   \n",
       "853115       0.0      0.0      0.0  ...      0.0      0.0      0.0      0.0   \n",
       "853118       0.0      0.0      0.0  ...      0.0      0.0      0.0      0.0   \n",
       "\n",
       "         824245   1140231  853114   853155   853115   853118   \n",
       "1033         0.0      0.0      0.0      0.0      0.0      0.0  \n",
       "35           0.0      0.0      0.0      0.0      0.0      0.0  \n",
       "103482       0.0      0.0      0.0      0.0      0.0      0.0  \n",
       "103515       0.0      0.0      0.0      0.0      0.0      0.0  \n",
       "1050679      0.0      0.0      0.0      0.0      0.0      0.0  \n",
       "...          ...      ...      ...      ...      ...      ...  \n",
       "1140231      0.0      0.0      0.0      0.0      0.0      0.0  \n",
       "853114       0.0      0.0      0.0      0.0      1.0      0.0  \n",
       "853155       0.0      0.0      1.0      0.0      1.0      0.0  \n",
       "853115       0.0      0.0      0.0      0.0      0.0      0.0  \n",
       "853118       0.0      0.0      0.0      1.0      0.0      0.0  \n",
       "\n",
       "[2708 rows x 2708 columns]"
      ]
     },
     "execution_count": 10,
     "metadata": {},
     "output_type": "execute_result"
    }
   ],
   "source": [
    "nx.to_pandas_adjacency(g)"
   ]
  },
  {
   "cell_type": "code",
   "execution_count": 11,
   "metadata": {
    "collapsed": false,
    "pycharm": {
     "name": "#%%\n"
    }
   },
   "outputs": [
    {
     "data": {
      "image/png": "[encoded data removed]",
      "text/plain": [
       "<Figure size 432x288 with 1 Axes>"
      ]
     },
     "metadata": {},
     "output_type": "display_data"
    }
   ],
   "source": [
    "nx.draw(g, node_size=15)"
   ]
  },
  {
   "cell_type": "code",
   "execution_count": 12,
   "metadata": {
    "collapsed": false,
    "pycharm": {
     "name": "#%%\n"
    }
   },
   "outputs": [],
   "source": [
    "node_list = list(g.nodes)"
   ]
  },
  {
   "cell_type": "code",
   "execution_count": 13,
   "metadata": {
    "collapsed": false,
    "pycharm": {
     "name": "#%%\n"
    }
   },
   "outputs": [],
   "source": [
    "train_mask = []\n",
    "test_mask = []\n",
    "for i in range(len(node_list)):\n",
    "    if np.random.rand() > 0.3:\n",
    "        test_mask.append(0)\n",
    "        train_mask.append(1)\n",
    "    else:\n",
    "        test_mask.append(1)\n",
    "        train_mask.append(0)\n",
    "\n",
    "train_mask = np.ma.make_mask(train_mask)\n",
    "test_mask = np.ma.make_mask(test_mask)"
   ]
  },
  {
   "cell_type": "code",
   "execution_count": 14,
   "metadata": {
    "collapsed": false,
    "pycharm": {
     "name": "#%%\n"
    }
   },
   "outputs": [
    {
     "data": {
      "text/plain": [
       "0"
      ]
     },
     "execution_count": 14,
     "metadata": {},
     "output_type": "execute_result"
    }
   ],
   "source": [
    "list(zip(train_mask, test_mask))\n",
    "sum(train_mask*test_mask)"
   ]
  },
  {
   "cell_type": "code",
   "execution_count": 15,
   "metadata": {
    "collapsed": false,
    "pycharm": {
     "name": "#%%\n"
    }
   },
   "outputs": [],
   "source": [
    "nodes_desired_order = pd.DataFrame(node_list)\n",
    "nodes_ordered = nodes_desired_order.set_index(0).join(nodes_pd.set_index(0), how=\"inner\").iloc[:, :1433].to_numpy(dtype=\"float32\")\n",
    "labels = nodes_desired_order.set_index(0).join(nodes_pd.set_index(0), how=\"inner\").iloc[:, 1433].to_numpy()"
   ]
  },
  {
   "cell_type": "code",
   "execution_count": 16,
   "metadata": {
    "collapsed": false,
    "pycharm": {
     "name": "#%%\n"
    }
   },
   "outputs": [],
   "source": [
    "from sklearn.preprocessing import OneHotEncoder\n",
    "\n",
    "ohe = OneHotEncoder()\n",
    "labels_ohe = ohe.fit_transform(np.expand_dims(labels, 1))"
   ]
  },
  {
   "cell_type": "code",
   "execution_count": 17,
   "metadata": {
    "collapsed": false,
    "pycharm": {
     "name": "#%%\n"
    }
   },
   "outputs": [
    {
     "data": {
      "text/plain": [
       "array([[0., 1., 0., ..., 0., 0., 0.],\n",
       "       [0., 1., 0., ..., 0., 0., 0.],\n",
       "       [0., 0., 1., ..., 0., 0., 0.],\n",
       "       ...,\n",
       "       [0., 0., 1., ..., 0., 0., 0.],\n",
       "       [0., 0., 1., ..., 0., 0., 0.],\n",
       "       [0., 0., 1., ..., 0., 0., 0.]])"
      ]
     },
     "execution_count": 17,
     "metadata": {},
     "output_type": "execute_result"
    }
   ],
   "source": [
    "labels_ohe.A"
   ]
  },
  {
   "cell_type": "code",
   "execution_count": 18,
   "metadata": {
    "collapsed": false,
    "pycharm": {
     "name": "#%%\n"
    }
   },
   "outputs": [
    {
     "data": {
      "text/plain": [
       "[array(['Case_Based', 'Genetic_Algorithms', 'Neural_Networks',\n",
       "        'Probabilistic_Methods', 'Reinforcement_Learning', 'Rule_Learning',\n",
       "        'Theory'], dtype=object)]"
      ]
     },
     "execution_count": 18,
     "metadata": {},
     "output_type": "execute_result"
    }
   ],
   "source": [
    "ohe.categories_"
   ]
  },
  {
   "cell_type": "markdown",
   "metadata": {
    "collapsed": false,
    "pycharm": {
     "name": "#%% md\n"
    }
   },
   "source": [
    "The scipy.sparse.*_matrix has several useful methods, for example, if a is e.g. scipy.sparse.csr_matrix:\n",
    "a.toarray() or a.A - Return a dense ndarray representation of this matrix. (numpy.array, recommended) a.todense() or a.M - Return a dense matrix representation of this matrix. (numpy.matrix)"
   ]
  },
  {
   "cell_type": "code",
   "execution_count": 19,
   "metadata": {
    "collapsed": false,
    "pycharm": {
     "name": "#%%\n"
    }
   },
   "outputs": [],
   "source": [
    "adj = adj.astype(\"float32\").A + np.eye(labels.shape[0])\n",
    "labels_ohe = labels_ohe.astype(\"float32\").A"
   ]
  },
  {
   "cell_type": "code",
   "execution_count": 20,
   "metadata": {
    "collapsed": false,
    "pycharm": {
     "name": "#%%\n"
    }
   },
   "outputs": [],
   "source": [
    "def masked_softmax_cross_entropy(logits, labels, mask):\n",
    "    loss = tf.nn.softmax_cross_entropy_with_logits(logits=logits, labels=labels)\n",
    "    mask = tf.cast(mask, dtype=tf.float32)\n",
    "    mask /= tf.reduce_mean(mask)\n",
    "    loss *= mask\n",
    "\n",
    "    return tf.reduce_mean(loss)\n",
    "\n",
    "def masked_accuracy(logits, labels, mask):\n",
    "    correct_prediction = tf.equal(tf.argmax(logits, 1), tf.argmax(labels, 1))\n",
    "    accuracy_all = tf.cast(correct_prediction, tf.float32)\n",
    "    mask = tf.cast(mask, tf.float32)\n",
    "    mask /= tf.reduce_mean(mask)\n",
    "    accuracy_all *= mask\n",
    "\n",
    "    return tf.reduce_mean(accuracy_all)\n",
    "\n",
    "def gnn(fts, adj, transform, activation):\n",
    "    seq_fts = transform(fts)\n",
    "    ret_fts = tf.matmul(adj, seq_fts)\n",
    "\n",
    "    return activation(ret_fts)\n",
    "\n",
    "def train_cora(fts, adj, labels,gnn_fn, units, epochs, lr):\n",
    "    lyr_1 = tf.keras.layers.Dense(units)\n",
    "    lyr_2 = tf.keras.layers.Dense(7)\n",
    "\n",
    "    def cora_gnn(fts, adj):\n",
    "        hidden = gnn_fn(fts, adj, lyr_1, tf.nn.relu)\n",
    "        logits = gnn_fn(hidden, adj, lyr_2, tf.identity)\n",
    "        return logits\n",
    "\n",
    "    optimizer = tf.keras.optimizers.Adam(lr)\n",
    "\n",
    "    best_accuracy = 0.0\n",
    "\n",
    "    for epoch in range(epochs+1):\n",
    "        with tf.GradientTape() as tape:\n",
    "            logits = cora_gnn(fts, adj)\n",
    "            loss = masked_softmax_cross_entropy(logits, labels, train_mask)\n",
    "\n",
    "        variables = tape.watched_variables()\n",
    "        grads = tape.gradient(loss, variables)\n",
    "        optimizer.apply_gradients(zip(grads, variables))\n",
    "\n",
    "        logits = cora_gnn(fts, adj)\n",
    "        train_accuracy = masked_accuracy(logits, labels, train_mask)\n",
    "        test_accuracy = masked_accuracy(logits, labels, test_mask)\n",
    "\n",
    "        if train_accuracy > best_accuracy:\n",
    "            best_accuracy = train_accuracy\n",
    "            print(f\"Epoch {epoch}| Training Loss: {loss.numpy()}| Val Accuracy: {train_accuracy.numpy()}| Test Accuracy: {test_accuracy.numpy()}\")"
   ]
  },
  {
   "cell_type": "code",
   "execution_count": 21,
   "metadata": {
    "collapsed": false,
    "pycharm": {
     "name": "#%%\n"
    }
   },
   "outputs": [
    {
     "name": "stdout",
     "output_type": "stream",
     "text": [
      "Epoch 0| Training Loss: 2.1718618869781494| Val Accuracy: 0.4888298511505127| Test Accuracy: 0.5108695030212402\n",
      "Epoch 1| Training Loss: 1.5363376140594482| Val Accuracy: 0.706915020942688| Test Accuracy: 0.7016907334327698\n",
      "Epoch 2| Training Loss: 1.0972026586532593| Val Accuracy: 0.8026595711708069| Test Accuracy: 0.8019322752952576\n",
      "Epoch 3| Training Loss: 0.8728541135787964| Val Accuracy: 0.8398935794830322| Test Accuracy: 0.8200481534004211\n",
      "Epoch 4| Training Loss: 0.7618788480758667| Val Accuracy: 0.8531914353370667| Test Accuracy: 0.8272945880889893\n",
      "Epoch 5| Training Loss: 0.687488853931427| Val Accuracy: 0.8659573197364807| Test Accuracy: 0.8417873382568359\n",
      "Epoch 6| Training Loss: 0.6255645751953125| Val Accuracy: 0.8781914114952087| Test Accuracy: 0.8454105854034424\n",
      "Epoch 7| Training Loss: 0.574877917766571| Val Accuracy: 0.889361560344696| Test Accuracy: 0.8478261232376099\n",
      "Epoch 8| Training Loss: 0.530254602432251| Val Accuracy: 0.8962764739990234| Test Accuracy: 0.851449191570282\n",
      "Epoch 9| Training Loss: 0.48951902985572815| Val Accuracy: 0.8994678854942322| Test Accuracy: 0.8562801480293274\n",
      "Epoch 10| Training Loss: 0.4572307765483856| Val Accuracy: 0.9063827991485596| Test Accuracy: 0.850241482257843\n",
      "Epoch 11| Training Loss: 0.42996886372566223| Val Accuracy: 0.910638153553009| Test Accuracy: 0.850241482257843\n",
      "Epoch 12| Training Loss: 0.4024047255516052| Val Accuracy: 0.9202126264572144| Test Accuracy: 0.8442028760910034\n",
      "Epoch 13| Training Loss: 0.37549108266830444| Val Accuracy: 0.9265955090522766| Test Accuracy: 0.850241482257843\n",
      "Epoch 14| Training Loss: 0.3505804240703583| Val Accuracy: 0.9319146871566772| Test Accuracy: 0.8490337133407593\n",
      "Epoch 15| Training Loss: 0.32660987973213196| Val Accuracy: 0.9351062178611755| Test Accuracy: 0.851449191570282\n",
      "Epoch 16| Training Loss: 0.30530837178230286| Val Accuracy: 0.939893364906311| Test Accuracy: 0.852656900882721\n",
      "Epoch 17| Training Loss: 0.28748080134391785| Val Accuracy: 0.9414891004562378| Test Accuracy: 0.8550724387168884\n",
      "Epoch 18| Training Loss: 0.2707216143608093| Val Accuracy: 0.947340190410614| Test Accuracy: 0.8514492511749268\n",
      "Epoch 19| Training Loss: 0.25451046228408813| Val Accuracy: 0.9521274566650391| Test Accuracy: 0.8466182947158813\n",
      "Epoch 20| Training Loss: 0.2398058921098709| Val Accuracy: 0.9569146633148193| Test Accuracy: 0.851449191570282\n",
      "Epoch 21| Training Loss: 0.22602038085460663| Val Accuracy: 0.9601061940193176| Test Accuracy: 0.8478260040283203\n",
      "Epoch 22| Training Loss: 0.21305274963378906| Val Accuracy: 0.9617018103599548| Test Accuracy: 0.8454105854034424\n",
      "Epoch 24| Training Loss: 0.19036239385604858| Val Accuracy: 0.9654252529144287| Test Accuracy: 0.8466182947158813\n",
      "Epoch 25| Training Loss: 0.17959532141685486| Val Accuracy: 0.9675528407096863| Test Accuracy: 0.8454105854034424\n",
      "Epoch 26| Training Loss: 0.16959401965141296| Val Accuracy: 0.9696804881095886| Test Accuracy: 0.8417873382568359\n",
      "Epoch 27| Training Loss: 0.1600387841463089| Val Accuracy: 0.9728720188140869| Test Accuracy: 0.8429950475692749\n",
      "Epoch 28| Training Loss: 0.15065260231494904| Val Accuracy: 0.9744677543640137| Test Accuracy: 0.8417873978614807\n",
      "Epoch 29| Training Loss: 0.1418641358613968| Val Accuracy: 0.9755315780639648| Test Accuracy: 0.8466183543205261\n",
      "Epoch 30| Training Loss: 0.13374699652194977| Val Accuracy: 0.976595401763916| Test Accuracy: 0.8478260040283203\n",
      "Epoch 31| Training Loss: 0.12621022760868073| Val Accuracy: 0.979254961013794| Test Accuracy: 0.8466182947158813\n",
      "Epoch 32| Training Loss: 0.11963880062103271| Val Accuracy: 0.9808507561683655| Test Accuracy: 0.8417873382568359\n",
      "Epoch 33| Training Loss: 0.11393144726753235| Val Accuracy: 0.9813826680183411| Test Accuracy: 0.8429950475692749\n",
      "Epoch 34| Training Loss: 0.10853193700313568| Val Accuracy: 0.9835103154182434| Test Accuracy: 0.8405795693397522\n",
      "Epoch 35| Training Loss: 0.10340321063995361| Val Accuracy: 0.9861698746681213| Test Accuracy: 0.8442027568817139\n",
      "Epoch 37| Training Loss: 0.09378982335329056| Val Accuracy: 0.9867018461227417| Test Accuracy: 0.8429951071739197\n",
      "Epoch 38| Training Loss: 0.08904743939638138| Val Accuracy: 0.9877656698226929| Test Accuracy: 0.8417873978614807\n",
      "Epoch 39| Training Loss: 0.08463434129953384| Val Accuracy: 0.9893614053726196| Test Accuracy: 0.8417873978614807\n",
      "Epoch 40| Training Loss: 0.08044277876615524| Val Accuracy: 0.991489052772522| Test Accuracy: 0.8442028760910034\n",
      "Epoch 42| Training Loss: 0.07292772829532623| Val Accuracy: 0.993084728717804| Test Accuracy: 0.8442028760910034\n",
      "Epoch 43| Training Loss: 0.0696316659450531| Val Accuracy: 0.9941485524177551| Test Accuracy: 0.8429951071739197\n",
      "Epoch 44| Training Loss: 0.0665113627910614| Val Accuracy: 0.9952123761177063| Test Accuracy: 0.8405796885490417\n",
      "Epoch 45| Training Loss: 0.06360438466072083| Val Accuracy: 0.9962761998176575| Test Accuracy: 0.8405796885490417\n",
      "Epoch 46| Training Loss: 0.060813676565885544| Val Accuracy: 0.9968081116676331| Test Accuracy: 0.8405796885490417\n",
      "Epoch 47| Training Loss: 0.05811411142349243| Val Accuracy: 0.9973400831222534| Test Accuracy: 0.8393718600273132\n",
      "Epoch 53| Training Loss: 0.04512697085738182| Val Accuracy: 0.997871994972229| Test Accuracy: 0.8357487320899963\n",
      "Epoch 62| Training Loss: 0.03221077844500542| Val Accuracy: 0.9984039068222046| Test Accuracy: 0.8381641507148743\n",
      "Epoch 63| Training Loss: 0.031120052561163902| Val Accuracy: 0.9989358186721802| Test Accuracy: 0.8357487320899963\n",
      "Epoch 64| Training Loss: 0.03008062019944191| Val Accuracy: 0.9994677305221558| Test Accuracy: 0.8357487320899963\n",
      "Epoch 65| Training Loss: 0.029095102101564407| Val Accuracy: 0.9999996423721313| Test Accuracy: 0.8345410227775574\n"
     ]
    }
   ],
   "source": [
    "train_cora(nodes_ordered, adj.astype(\"float32\"), labels_ohe, gnn, 32, 200, 0.01)"
   ]
  },
  {
   "cell_type": "code",
   "execution_count": 21,
   "metadata": {
    "collapsed": false,
    "pycharm": {
     "name": "#%%\n"
    }
   },
   "outputs": [],
   "source": []
  }
 ],
 "metadata": {
  "kernelspec": {
   "display_name": "Python 3",
   "language": "python",
   "name": "python3"
  },
  "language_info": {
   "codemirror_mode": {
    "name": "ipython",
    "version": 2
   },
   "file_extension": ".py",
   "mimetype": "text/x-python",
   "name": "python",
   "nbconvert_exporter": "python",
   "pygments_lexer": "ipython2",
   "version": "2.7.6"
  }
 },
 "nbformat": 4,
 "nbformat_minor": 0
}
